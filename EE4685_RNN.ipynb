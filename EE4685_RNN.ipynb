{
 "cells": [
  {
   "cell_type": "markdown",
   "metadata": {},
   "source": []
  },
  {
   "cell_type": "code",
   "execution_count": 3,
   "metadata": {},
   "outputs": [],
   "source": [
    "import numpy as np\n",
    "import pandas as pd\n",
    "import matplotlib.pyplot as plt"
   ]
  },
  {
   "cell_type": "code",
   "execution_count": 4,
   "metadata": {},
   "outputs": [],
   "source": [
    "bit_data=pd.read_csv(\"bitstampUSD_1-min_data_2012-01-01_to_2021-03-31.csv\")\n",
    "bit_data[\"date\"]=pd.to_datetime(bit_data[\"Timestamp\"],unit=\"s\").dt.date\n"
   ]
  },
  {
   "cell_type": "code",
   "execution_count": 56,
   "metadata": {},
   "outputs": [],
   "source": [
    "group=bit_data.groupby(\"date\")\n",
    "data=group[\"Close\"].mean()\n",
    "# data=group[[\"Open\", \"High\", \"Low\", \"Close\"]].mean()\n",
    "# Using minute-data and the whole dataset takes ages to load\n",
    "# bit_data[\"Close\"] = bit_data[\"Close\"].fillna(method=\"ffill\")\n",
    "# data = bit_data[\"Close\"]"
   ]
  },
  {
   "cell_type": "code",
   "execution_count": 25,
   "metadata": {},
   "outputs": [
    {
     "data": {
      "text/plain": [
       "(3376, 4)"
      ]
     },
     "execution_count": 25,
     "metadata": {},
     "output_type": "execute_result"
    }
   ],
   "source": [
    "data.shape"
   ]
  },
  {
   "cell_type": "code",
   "execution_count": 7,
   "metadata": {},
   "outputs": [
    {
     "data": {
      "text/plain": [
       "0"
      ]
     },
     "execution_count": 7,
     "metadata": {},
     "output_type": "execute_result"
    }
   ],
   "source": [
    "data.isnull().sum()\n"
   ]
  },
  {
   "cell_type": "code",
   "execution_count": 26,
   "metadata": {},
   "outputs": [
    {
     "data": {
      "text/html": [
       "<div>\n",
       "<style scoped>\n",
       "    .dataframe tbody tr th:only-of-type {\n",
       "        vertical-align: middle;\n",
       "    }\n",
       "\n",
       "    .dataframe tbody tr th {\n",
       "        vertical-align: top;\n",
       "    }\n",
       "\n",
       "    .dataframe thead th {\n",
       "        text-align: right;\n",
       "    }\n",
       "</style>\n",
       "<table border=\"1\" class=\"dataframe\">\n",
       "  <thead>\n",
       "    <tr style=\"text-align: right;\">\n",
       "      <th></th>\n",
       "      <th>Open</th>\n",
       "      <th>High</th>\n",
       "      <th>Low</th>\n",
       "      <th>Close</th>\n",
       "    </tr>\n",
       "    <tr>\n",
       "      <th>date</th>\n",
       "      <th></th>\n",
       "      <th></th>\n",
       "      <th></th>\n",
       "      <th></th>\n",
       "    </tr>\n",
       "  </thead>\n",
       "  <tbody>\n",
       "    <tr>\n",
       "      <th>2011-12-31</th>\n",
       "      <td>4.465000</td>\n",
       "      <td>4.482500</td>\n",
       "      <td>4.465000</td>\n",
       "      <td>4.482500</td>\n",
       "    </tr>\n",
       "    <tr>\n",
       "      <th>2012-01-01</th>\n",
       "      <td>4.806667</td>\n",
       "      <td>4.806667</td>\n",
       "      <td>4.806667</td>\n",
       "      <td>4.806667</td>\n",
       "    </tr>\n",
       "    <tr>\n",
       "      <th>2012-01-02</th>\n",
       "      <td>5.000000</td>\n",
       "      <td>5.000000</td>\n",
       "      <td>5.000000</td>\n",
       "      <td>5.000000</td>\n",
       "    </tr>\n",
       "    <tr>\n",
       "      <th>2012-01-03</th>\n",
       "      <td>5.252500</td>\n",
       "      <td>5.252500</td>\n",
       "      <td>5.252500</td>\n",
       "      <td>5.252500</td>\n",
       "    </tr>\n",
       "    <tr>\n",
       "      <th>2012-01-04</th>\n",
       "      <td>5.200000</td>\n",
       "      <td>5.223333</td>\n",
       "      <td>5.200000</td>\n",
       "      <td>5.223333</td>\n",
       "    </tr>\n",
       "  </tbody>\n",
       "</table>\n",
       "</div>"
      ],
      "text/plain": [
       "                Open      High       Low     Close\n",
       "date                                              \n",
       "2011-12-31  4.465000  4.482500  4.465000  4.482500\n",
       "2012-01-01  4.806667  4.806667  4.806667  4.806667\n",
       "2012-01-02  5.000000  5.000000  5.000000  5.000000\n",
       "2012-01-03  5.252500  5.252500  5.252500  5.252500\n",
       "2012-01-04  5.200000  5.223333  5.200000  5.223333"
      ]
     },
     "execution_count": 26,
     "metadata": {},
     "output_type": "execute_result"
    }
   ],
   "source": [
    "data.head()"
   ]
  },
  {
   "cell_type": "code",
   "execution_count": 57,
   "metadata": {},
   "outputs": [],
   "source": [
    "close_train=data.iloc[:len(data)-50]\n",
    "close_test=data.iloc[len(close_train):]"
   ]
  },
  {
   "cell_type": "code",
   "execution_count": 60,
   "metadata": {},
   "outputs": [],
   "source": [
    "#feature scalling (set values between 0-1)\n",
    "close_train=np.array(close_train)\n",
    "close_train=close_train.reshape(close_train.shape[0],1)\n",
    "# close_train=close_train.reshape(close_train.shape[0],close_train.shape[1])\n",
    "from sklearn.preprocessing import MinMaxScaler\n",
    "scaler=MinMaxScaler(feature_range=(0,1))\n",
    "close_scaled=scaler.fit_transform(close_train)"
   ]
  },
  {
   "cell_type": "code",
   "execution_count": 62,
   "metadata": {},
   "outputs": [
    {
     "name": "stdout",
     "output_type": "stream",
     "text": [
      "x_train shape=  (3276, 50, 1)\n",
      "y_train shape=  (3276, 1)\n"
     ]
    }
   ],
   "source": [
    "timestep=50\n",
    "x_train=[]\n",
    "y_train=[]\n",
    "\n",
    "for i in range(timestep,close_scaled.shape[0]):\n",
    "    x_train.append(close_scaled[i-timestep:i,:])\n",
    "    y_train.append(close_scaled[i,:])\n",
    "\n",
    "x_train,y_train=np.array(x_train),np.array(y_train)\n",
    "# x_train=x_train.reshape(x_train.shape[0],x_train.shape[1],1) #reshaped for RNN\n",
    "print(\"x_train shape= \",x_train.shape)\n",
    "print(\"y_train shape= \",y_train.shape)"
   ]
  },
  {
   "cell_type": "code",
   "execution_count": 12,
   "metadata": {},
   "outputs": [
    {
     "name": "stdout",
     "output_type": "stream",
     "text": [
      "Epoch 1/100\n",
      "52/52 [==============================] - 42s 589ms/step - loss: 0.0030\n",
      "Epoch 2/100\n",
      "52/52 [==============================] - 31s 603ms/step - loss: 0.0010\n",
      "Epoch 3/100\n",
      "52/52 [==============================] - 32s 617ms/step - loss: 9.5654e-04\n",
      "Epoch 4/100\n",
      "52/52 [==============================] - 33s 638ms/step - loss: 6.6511e-04\n",
      "Epoch 5/100\n",
      "52/52 [==============================] - 32s 621ms/step - loss: 6.3525e-04\n",
      "Epoch 6/100\n",
      "52/52 [==============================] - 28s 537ms/step - loss: 4.8631e-04\n",
      "Epoch 7/100\n",
      "52/52 [==============================] - 35s 681ms/step - loss: 7.4495e-04\n",
      "Epoch 8/100\n",
      "52/52 [==============================] - 31s 586ms/step - loss: 6.7515e-04\n",
      "Epoch 9/100\n",
      "52/52 [==============================] - 32s 623ms/step - loss: 4.4392e-04\n",
      "Epoch 10/100\n",
      "52/52 [==============================] - 33s 643ms/step - loss: 5.9196e-04\n",
      "Epoch 11/100\n",
      "52/52 [==============================] - 34s 650ms/step - loss: 4.6905e-04\n",
      "Epoch 12/100\n",
      "52/52 [==============================] - 34s 645ms/step - loss: 4.5568e-04\n",
      "Epoch 13/100\n",
      "52/52 [==============================] - 34s 652ms/step - loss: 5.1846e-04\n",
      "Epoch 14/100\n",
      "52/52 [==============================] - 34s 659ms/step - loss: 2.9114e-04\n",
      "Epoch 15/100\n",
      "52/52 [==============================] - 34s 654ms/step - loss: 4.0376e-04\n",
      "Epoch 16/100\n",
      "52/52 [==============================] - 34s 658ms/step - loss: 3.0157e-04\n",
      "Epoch 17/100\n",
      "52/52 [==============================] - 33s 633ms/step - loss: 5.7064e-04\n",
      "Epoch 18/100\n",
      "52/52 [==============================] - 32s 625ms/step - loss: 4.0338e-04\n",
      "Epoch 19/100\n",
      "52/52 [==============================] - 32s 622ms/step - loss: 0.0019\n",
      "Epoch 20/100\n",
      "52/52 [==============================] - 32s 623ms/step - loss: 7.4927e-04\n",
      "Epoch 21/100\n",
      "52/52 [==============================] - 32s 622ms/step - loss: 3.2556e-04\n",
      "Epoch 22/100\n",
      "52/52 [==============================] - 32s 619ms/step - loss: 3.6468e-04\n",
      "Epoch 23/100\n",
      "52/52 [==============================] - 32s 622ms/step - loss: 4.2172e-04\n",
      "Epoch 24/100\n",
      "52/52 [==============================] - 32s 610ms/step - loss: 2.5873e-04\n",
      "Epoch 25/100\n",
      "52/52 [==============================] - 34s 657ms/step - loss: 3.2891e-04\n",
      "Epoch 26/100\n",
      "52/52 [==============================] - 32s 622ms/step - loss: 3.3718e-04\n",
      "Epoch 27/100\n",
      "52/52 [==============================] - 31s 592ms/step - loss: 3.3053e-04\n",
      "Epoch 28/100\n",
      "52/52 [==============================] - 34s 646ms/step - loss: 4.0084e-04\n",
      "Epoch 29/100\n",
      "52/52 [==============================] - 34s 650ms/step - loss: 3.9111e-04\n",
      "Epoch 30/100\n",
      "52/52 [==============================] - 33s 625ms/step - loss: 3.4929e-04\n",
      "Epoch 31/100\n",
      "52/52 [==============================] - 32s 617ms/step - loss: 3.3538e-04\n",
      "Epoch 32/100\n",
      "52/52 [==============================] - 21s 407ms/step - loss: 4.1729e-04\n",
      "Epoch 33/100\n",
      "52/52 [==============================] - 21s 409ms/step - loss: 3.5410e-04\n",
      "Epoch 34/100\n",
      "52/52 [==============================] - 21s 398ms/step - loss: 3.0364e-04\n",
      "Epoch 35/100\n",
      "52/52 [==============================] - 21s 407ms/step - loss: 3.9332e-04\n",
      "Epoch 36/100\n",
      "52/52 [==============================] - 21s 397ms/step - loss: 3.6534e-04\n",
      "Epoch 37/100\n",
      "52/52 [==============================] - 19s 361ms/step - loss: 2.2035e-04\n",
      "Epoch 38/100\n",
      "52/52 [==============================] - 18s 350ms/step - loss: 2.4102e-04\n",
      "Epoch 39/100\n",
      "52/52 [==============================] - 19s 361ms/step - loss: 2.7886e-04\n",
      "Epoch 40/100\n",
      "52/52 [==============================] - 25s 484ms/step - loss: 2.3374e-04\n",
      "Epoch 41/100\n",
      "52/52 [==============================] - 19s 359ms/step - loss: 3.1380e-04\n",
      "Epoch 42/100\n",
      "52/52 [==============================] - 22s 425ms/step - loss: 2.3824e-04\n",
      "Epoch 43/100\n",
      "52/52 [==============================] - 19s 368ms/step - loss: 2.2623e-04\n",
      "Epoch 44/100\n",
      "52/52 [==============================] - 18s 340ms/step - loss: 2.4268e-04\n",
      "Epoch 45/100\n",
      "52/52 [==============================] - 19s 359ms/step - loss: 2.8563e-04\n",
      "Epoch 46/100\n",
      "52/52 [==============================] - 18s 346ms/step - loss: 2.6494e-04\n",
      "Epoch 47/100\n",
      "52/52 [==============================] - 18s 347ms/step - loss: 2.2480e-04\n",
      "Epoch 48/100\n",
      "52/52 [==============================] - 18s 355ms/step - loss: 2.3139e-04\n",
      "Epoch 49/100\n",
      "52/52 [==============================] - 18s 348ms/step - loss: 2.3294e-04\n",
      "Epoch 50/100\n",
      "52/52 [==============================] - 18s 351ms/step - loss: 2.1435e-04\n",
      "Epoch 51/100\n",
      "52/52 [==============================] - 21s 397ms/step - loss: 2.2343e-04\n",
      "Epoch 52/100\n",
      "52/52 [==============================] - 20s 387ms/step - loss: 2.1815e-04\n",
      "Epoch 53/100\n",
      "52/52 [==============================] - 19s 363ms/step - loss: 1.8529e-04\n",
      "Epoch 54/100\n",
      "52/52 [==============================] - 19s 369ms/step - loss: 2.2545e-04\n",
      "Epoch 55/100\n",
      "52/52 [==============================] - 20s 382ms/step - loss: 2.8242e-04\n",
      "Epoch 56/100\n",
      "52/52 [==============================] - 20s 379ms/step - loss: 4.3135e-04\n",
      "Epoch 57/100\n",
      "52/52 [==============================] - 20s 376ms/step - loss: 2.0748e-04\n",
      "Epoch 58/100\n",
      "52/52 [==============================] - 20s 393ms/step - loss: 1.6835e-04\n",
      "Epoch 59/100\n",
      "52/52 [==============================] - 20s 384ms/step - loss: 1.7669e-04\n",
      "Epoch 60/100\n",
      "52/52 [==============================] - 20s 391ms/step - loss: 2.4208e-04\n",
      "Epoch 61/100\n",
      "52/52 [==============================] - 21s 405ms/step - loss: 2.3304e-04\n",
      "Epoch 62/100\n",
      "52/52 [==============================] - 20s 391ms/step - loss: 2.9558e-04\n",
      "Epoch 63/100\n",
      "52/52 [==============================] - 21s 404ms/step - loss: 2.1594e-04\n",
      "Epoch 64/100\n",
      "52/52 [==============================] - 21s 409ms/step - loss: 1.7535e-04\n",
      "Epoch 65/100\n",
      "52/52 [==============================] - 21s 407ms/step - loss: 1.5125e-04\n",
      "Epoch 66/100\n",
      "52/52 [==============================] - 24s 459ms/step - loss: 2.1892e-04\n",
      "Epoch 67/100\n",
      "52/52 [==============================] - 22s 426ms/step - loss: 2.0620e-04\n",
      "Epoch 68/100\n",
      "52/52 [==============================] - 23s 437ms/step - loss: 1.7326e-04\n",
      "Epoch 69/100\n",
      "52/52 [==============================] - 24s 455ms/step - loss: 1.8232e-04\n",
      "Epoch 70/100\n",
      "52/52 [==============================] - 25s 472ms/step - loss: 2.4199e-04\n",
      "Epoch 71/100\n",
      "52/52 [==============================] - 31s 595ms/step - loss: 2.2161e-04\n",
      "Epoch 72/100\n",
      "52/52 [==============================] - 35s 670ms/step - loss: 2.6093e-04\n",
      "Epoch 73/100\n",
      "52/52 [==============================] - 42s 810ms/step - loss: 2.2923e-04\n",
      "Epoch 74/100\n",
      "52/52 [==============================] - 47s 904ms/step - loss: 1.9625e-04\n",
      "Epoch 75/100\n",
      "52/52 [==============================] - 44s 839ms/step - loss: 1.5423e-04\n",
      "Epoch 76/100\n",
      "52/52 [==============================] - 43s 823ms/step - loss: 2.2797e-04\n",
      "Epoch 77/100\n",
      "52/52 [==============================] - 35s 668ms/step - loss: 2.8773e-04\n",
      "Epoch 78/100\n",
      "52/52 [==============================] - 29s 557ms/step - loss: 2.1375e-04\n",
      "Epoch 79/100\n",
      "52/52 [==============================] - 29s 560ms/step - loss: 1.8619e-04\n",
      "Epoch 80/100\n",
      "52/52 [==============================] - 35s 679ms/step - loss: 2.0558e-04\n",
      "Epoch 81/100\n",
      "52/52 [==============================] - 35s 674ms/step - loss: 1.6913e-04\n",
      "Epoch 82/100\n",
      "52/52 [==============================] - 33s 635ms/step - loss: 1.9407e-04\n",
      "Epoch 83/100\n",
      "52/52 [==============================] - 34s 657ms/step - loss: 2.0769e-04\n",
      "Epoch 84/100\n",
      "52/52 [==============================] - 33s 640ms/step - loss: 2.5202e-04\n",
      "Epoch 85/100\n",
      "52/52 [==============================] - 33s 646ms/step - loss: 2.6157e-04\n",
      "Epoch 86/100\n",
      "52/52 [==============================] - 35s 667ms/step - loss: 1.7885e-04\n",
      "Epoch 87/100\n",
      "52/52 [==============================] - 34s 656ms/step - loss: 2.7606e-04\n",
      "Epoch 88/100\n",
      "52/52 [==============================] - 32s 610ms/step - loss: 1.9644e-04\n",
      "Epoch 89/100\n",
      "52/52 [==============================] - 29s 555ms/step - loss: 1.8563e-04\n",
      "Epoch 90/100\n",
      "52/52 [==============================] - 39s 749ms/step - loss: 2.6458e-04\n",
      "Epoch 91/100\n",
      "52/52 [==============================] - 41s 788ms/step - loss: 1.9457e-04\n",
      "Epoch 92/100\n",
      "52/52 [==============================] - 37s 712ms/step - loss: 2.4206e-04\n",
      "Epoch 93/100\n",
      "52/52 [==============================] - 37s 714ms/step - loss: 2.3151e-04\n",
      "Epoch 94/100\n",
      "52/52 [==============================] - 32s 610ms/step - loss: 1.9863e-04\n",
      "Epoch 95/100\n",
      "52/52 [==============================] - 25s 480ms/step - loss: 1.6026e-04\n",
      "Epoch 96/100\n",
      "52/52 [==============================] - 28s 544ms/step - loss: 2.3218e-04\n",
      "Epoch 97/100\n",
      "52/52 [==============================] - 27s 522ms/step - loss: 2.4627e-04\n",
      "Epoch 98/100\n",
      "52/52 [==============================] - 22s 425ms/step - loss: 2.0966e-04\n",
      "Epoch 99/100\n",
      "52/52 [==============================] - 25s 474ms/step - loss: 1.6491e-04\n",
      "Epoch 100/100\n",
      "52/52 [==============================] - 25s 483ms/step - loss: 2.1515e-04\n"
     ]
    },
    {
     "data": {
      "text/plain": [
       "<keras.callbacks.History at 0x1ab61092fb0>"
      ]
     },
     "execution_count": 12,
     "metadata": {},
     "output_type": "execute_result"
    }
   ],
   "source": [
    "from keras.models import Sequential\n",
    "from keras.layers import Dense, SimpleRNN, Dropout,Flatten\n",
    "\n",
    "regressor=Sequential()\n",
    "#first RNN layer\n",
    "regressor.add(SimpleRNN(128,activation=\"relu\",return_sequences=True,input_shape=(x_train.shape[1],1)))\n",
    "regressor.add(Dropout(0.25))\n",
    "#second RNN layer\n",
    "regressor.add(SimpleRNN(256,activation=\"relu\",return_sequences=True))\n",
    "regressor.add(Dropout(0.25))\n",
    "#third RNN layer\n",
    "regressor.add(SimpleRNN(512,activation=\"relu\",return_sequences=True))\n",
    "regressor.add(Dropout(0.35))\n",
    "#fourth RNN layer\n",
    "regressor.add(SimpleRNN(256,activation=\"relu\",return_sequences=True))\n",
    "regressor.add(Dropout(0.25))\n",
    "#fifth RNN layer\n",
    "regressor.add(SimpleRNN(128,activation=\"relu\",return_sequences=True))\n",
    "regressor.add(Dropout(0.25))\n",
    "#convert the matrix to 1-line\n",
    "regressor.add(Flatten())\n",
    "#output layer\n",
    "regressor.add(Dense(1))\n",
    "\n",
    "regressor.compile(optimizer=\"adam\",loss=\"mean_squared_error\")\n",
    "regressor.fit(x_train,y_train,epochs=100,batch_size=64)"
   ]
  },
  {
   "cell_type": "code",
   "execution_count": 63,
   "metadata": {},
   "outputs": [],
   "source": [
    "inputs=data[len(data)-len(close_test)-timestep:]\n",
    "inputs=inputs.values.reshape(-1,1)\n",
    "inputs=scaler.transform(inputs)"
   ]
  },
  {
   "cell_type": "code",
   "execution_count": 64,
   "metadata": {},
   "outputs": [],
   "source": [
    "x_test=[]\n",
    "for i in range(timestep,inputs.shape[0]):\n",
    "    x_test.append(inputs[i-timestep:i,:])\n",
    "x_test=np.array(x_test)\n",
    "x_test=x_test.reshape(x_test.shape[0],x_test.shape[1],1)"
   ]
  },
  {
   "cell_type": "code",
   "execution_count": 15,
   "metadata": {},
   "outputs": [
    {
     "name": "stdout",
     "output_type": "stream",
     "text": [
      "2/2 [==============================] - 1s 63ms/step\n"
     ]
    }
   ],
   "source": [
    "predicted_data=regressor.predict(x_test)\n",
    "predicted_data=scaler.inverse_transform(predicted_data)"
   ]
  },
  {
   "cell_type": "code",
   "execution_count": 16,
   "metadata": {},
   "outputs": [],
   "source": [
    "data_test=np.array(close_test)\n",
    "data_test=data_test.reshape(len(data_test),1)"
   ]
  },
  {
   "cell_type": "code",
   "execution_count": 17,
   "metadata": {},
   "outputs": [
    {
     "data": {
      "image/png": "[encoded data removed]",
      "text/plain": [
       "<Figure size 640x320 with 1 Axes>"
      ]
     },
     "metadata": {},
     "output_type": "display_data"
    }
   ],
   "source": [
    "plt.figure(figsize=(8,4), dpi=80, facecolor='w', edgecolor='k')\n",
    "plt.plot(data_test,color=\"r\",label=\"true result\")\n",
    "plt.plot(predicted_data,color=\"b\",label=\"predicted result\")\n",
    "plt.legend()\n",
    "plt.xlabel(\"Time(50 days)\")\n",
    "plt.ylabel(\"Close Values\")\n",
    "plt.grid(True)\n",
    "plt.show()"
   ]
  },
  {
   "cell_type": "code",
   "execution_count": 65,
   "metadata": {},
   "outputs": [
    {
     "name": "stdout",
     "output_type": "stream",
     "text": [
      "Epoch 1/100\n",
      "103/103 [==============================] - 3s 17ms/step - loss: 0.0153\n",
      "Epoch 2/100\n",
      "103/103 [==============================] - 2s 19ms/step - loss: 0.0018\n",
      "Epoch 3/100\n",
      "103/103 [==============================] - 1s 14ms/step - loss: 5.8672e-04\n",
      "Epoch 4/100\n",
      "103/103 [==============================] - 2s 15ms/step - loss: 3.5964e-04\n",
      "Epoch 5/100\n",
      "103/103 [==============================] - 2s 15ms/step - loss: 3.2343e-04\n",
      "Epoch 6/100\n",
      "103/103 [==============================] - 1s 14ms/step - loss: 2.9523e-04\n",
      "Epoch 7/100\n",
      "103/103 [==============================] - 2s 15ms/step - loss: 2.8464e-04\n",
      "Epoch 8/100\n",
      "103/103 [==============================] - 2s 15ms/step - loss: 2.4823e-04\n",
      "Epoch 9/100\n",
      "103/103 [==============================] - 1s 14ms/step - loss: 2.5623e-04\n",
      "Epoch 10/100\n",
      "103/103 [==============================] - 1s 14ms/step - loss: 2.1660e-04\n",
      "Epoch 11/100\n",
      "103/103 [==============================] - 2s 22ms/step - loss: 2.0694e-04\n",
      "Epoch 12/100\n",
      "103/103 [==============================] - 2s 15ms/step - loss: 1.9279e-04\n",
      "Epoch 13/100\n",
      "103/103 [==============================] - 1s 13ms/step - loss: 1.6994e-04\n",
      "Epoch 14/100\n",
      "103/103 [==============================] - 1s 12ms/step - loss: 1.5706e-04\n",
      "Epoch 15/100\n",
      "103/103 [==============================] - 1s 12ms/step - loss: 1.4140e-04\n",
      "Epoch 16/100\n",
      "103/103 [==============================] - 1s 13ms/step - loss: 1.3573e-04\n",
      "Epoch 17/100\n",
      "103/103 [==============================] - 1s 12ms/step - loss: 1.2512e-04\n",
      "Epoch 18/100\n",
      "103/103 [==============================] - 1s 13ms/step - loss: 1.3036e-04\n",
      "Epoch 19/100\n",
      "103/103 [==============================] - 1s 13ms/step - loss: 1.1623e-04\n",
      "Epoch 20/100\n",
      "103/103 [==============================] - 1s 12ms/step - loss: 1.1372e-04\n",
      "Epoch 21/100\n",
      "103/103 [==============================] - 1s 12ms/step - loss: 1.0753e-04\n",
      "Epoch 22/100\n",
      "103/103 [==============================] - 1s 12ms/step - loss: 1.0888e-04\n",
      "Epoch 23/100\n",
      "103/103 [==============================] - 1s 13ms/step - loss: 1.0599e-04\n",
      "Epoch 24/100\n",
      "103/103 [==============================] - 1s 12ms/step - loss: 1.0442e-04\n",
      "Epoch 25/100\n",
      "103/103 [==============================] - 1s 12ms/step - loss: 1.0652e-04\n",
      "Epoch 26/100\n",
      "103/103 [==============================] - 1s 12ms/step - loss: 9.8346e-05\n",
      "Epoch 27/100\n",
      "103/103 [==============================] - 1s 12ms/step - loss: 9.7190e-05\n",
      "Epoch 28/100\n",
      "103/103 [==============================] - 1s 12ms/step - loss: 1.0060e-04\n",
      "Epoch 29/100\n",
      "103/103 [==============================] - 1s 12ms/step - loss: 1.0079e-04\n",
      "Epoch 30/100\n",
      "103/103 [==============================] - 1s 12ms/step - loss: 9.7388e-05\n",
      "Epoch 31/100\n",
      "103/103 [==============================] - 1s 12ms/step - loss: 9.7167e-05\n",
      "Epoch 32/100\n",
      "103/103 [==============================] - 1s 12ms/step - loss: 9.4937e-05\n",
      "Epoch 33/100\n",
      "103/103 [==============================] - 1s 13ms/step - loss: 9.6924e-05\n",
      "Epoch 34/100\n",
      "103/103 [==============================] - 1s 12ms/step - loss: 9.1328e-05\n",
      "Epoch 35/100\n",
      "103/103 [==============================] - 1s 12ms/step - loss: 8.9123e-05\n",
      "Epoch 36/100\n",
      "103/103 [==============================] - 1s 12ms/step - loss: 8.7422e-05\n",
      "Epoch 37/100\n",
      "103/103 [==============================] - 1s 12ms/step - loss: 9.0067e-05\n",
      "Epoch 38/100\n",
      "103/103 [==============================] - 1s 12ms/step - loss: 8.5528e-05\n",
      "Epoch 39/100\n",
      "103/103 [==============================] - 1s 12ms/step - loss: 8.4550e-05\n",
      "Epoch 40/100\n",
      "103/103 [==============================] - 1s 12ms/step - loss: 8.3179e-05\n",
      "Epoch 41/100\n",
      "103/103 [==============================] - 1s 13ms/step - loss: 8.4706e-05\n",
      "Epoch 42/100\n",
      "103/103 [==============================] - 1s 12ms/step - loss: 8.0925e-05\n",
      "Epoch 43/100\n",
      "103/103 [==============================] - 1s 12ms/step - loss: 8.6581e-05\n",
      "Epoch 44/100\n",
      "103/103 [==============================] - 1s 12ms/step - loss: 7.6806e-05\n",
      "Epoch 45/100\n",
      "103/103 [==============================] - 1s 12ms/step - loss: 8.4841e-05\n",
      "Epoch 46/100\n",
      "103/103 [==============================] - 1s 12ms/step - loss: 8.2747e-05\n",
      "Epoch 47/100\n",
      "103/103 [==============================] - 1s 12ms/step - loss: 8.2498e-05\n",
      "Epoch 48/100\n",
      "103/103 [==============================] - 1s 12ms/step - loss: 7.9046e-05\n",
      "Epoch 49/100\n",
      "103/103 [==============================] - 1s 12ms/step - loss: 7.8625e-05\n",
      "Epoch 50/100\n",
      "103/103 [==============================] - 1s 12ms/step - loss: 8.1331e-05\n",
      "Epoch 51/100\n",
      "103/103 [==============================] - 1s 12ms/step - loss: 7.8521e-05\n",
      "Epoch 52/100\n",
      "103/103 [==============================] - 1s 12ms/step - loss: 7.2953e-05\n",
      "Epoch 53/100\n",
      "103/103 [==============================] - 1s 12ms/step - loss: 7.5581e-05\n",
      "Epoch 54/100\n",
      "103/103 [==============================] - 1s 12ms/step - loss: 7.5828e-05\n",
      "Epoch 55/100\n",
      "103/103 [==============================] - 1s 12ms/step - loss: 7.5978e-05\n",
      "Epoch 56/100\n",
      "103/103 [==============================] - 1s 12ms/step - loss: 7.7483e-05\n",
      "Epoch 57/100\n",
      "103/103 [==============================] - 1s 14ms/step - loss: 7.5196e-05\n",
      "Epoch 58/100\n",
      "103/103 [==============================] - 1s 14ms/step - loss: 7.1408e-05\n",
      "Epoch 59/100\n",
      "103/103 [==============================] - 1s 12ms/step - loss: 6.9156e-05\n",
      "Epoch 60/100\n",
      "103/103 [==============================] - 1s 13ms/step - loss: 7.3525e-05\n",
      "Epoch 61/100\n",
      "103/103 [==============================] - 1s 14ms/step - loss: 6.9783e-05\n",
      "Epoch 62/100\n",
      "103/103 [==============================] - 1s 13ms/step - loss: 6.7693e-05\n",
      "Epoch 63/100\n",
      "103/103 [==============================] - 1s 12ms/step - loss: 6.4349e-05\n",
      "Epoch 64/100\n",
      "103/103 [==============================] - 1s 11ms/step - loss: 6.4539e-05\n",
      "Epoch 65/100\n",
      "103/103 [==============================] - 1s 11ms/step - loss: 6.7568e-05\n",
      "Epoch 66/100\n",
      "103/103 [==============================] - 1s 11ms/step - loss: 6.7282e-05\n",
      "Epoch 67/100\n",
      "103/103 [==============================] - 1s 12ms/step - loss: 6.8229e-05\n",
      "Epoch 68/100\n",
      "103/103 [==============================] - 1s 12ms/step - loss: 6.1919e-05\n",
      "Epoch 69/100\n",
      "103/103 [==============================] - 1s 12ms/step - loss: 6.3380e-05\n",
      "Epoch 70/100\n",
      "103/103 [==============================] - 1s 11ms/step - loss: 6.3785e-05\n",
      "Epoch 71/100\n",
      "103/103 [==============================] - 1s 11ms/step - loss: 6.3075e-05\n",
      "Epoch 72/100\n",
      "103/103 [==============================] - 1s 12ms/step - loss: 5.9662e-05\n",
      "Epoch 73/100\n",
      "103/103 [==============================] - 1s 12ms/step - loss: 6.3539e-05\n",
      "Epoch 74/100\n",
      "103/103 [==============================] - 1s 12ms/step - loss: 6.4160e-05\n",
      "Epoch 75/100\n",
      "103/103 [==============================] - 1s 12ms/step - loss: 5.9556e-05\n",
      "Epoch 76/100\n",
      "103/103 [==============================] - 1s 11ms/step - loss: 6.1491e-05\n",
      "Epoch 77/100\n",
      "103/103 [==============================] - 1s 11ms/step - loss: 5.8340e-05\n",
      "Epoch 78/100\n",
      "103/103 [==============================] - 1s 11ms/step - loss: 6.2527e-05\n",
      "Epoch 79/100\n",
      "103/103 [==============================] - 1s 12ms/step - loss: 5.9683e-05\n",
      "Epoch 80/100\n",
      "103/103 [==============================] - 1s 11ms/step - loss: 5.8585e-05\n",
      "Epoch 81/100\n",
      "103/103 [==============================] - 1s 11ms/step - loss: 5.9315e-05\n",
      "Epoch 82/100\n",
      "103/103 [==============================] - 1s 13ms/step - loss: 5.6047e-05\n",
      "Epoch 83/100\n",
      "103/103 [==============================] - 1s 12ms/step - loss: 5.7093e-05\n",
      "Epoch 84/100\n",
      "103/103 [==============================] - 1s 12ms/step - loss: 5.4054e-05\n",
      "Epoch 85/100\n",
      "103/103 [==============================] - 1s 13ms/step - loss: 5.4723e-05\n",
      "Epoch 86/100\n",
      "103/103 [==============================] - 1s 11ms/step - loss: 5.0107e-05\n",
      "Epoch 87/100\n",
      "103/103 [==============================] - 1s 12ms/step - loss: 5.1478e-05\n",
      "Epoch 88/100\n",
      "103/103 [==============================] - 1s 13ms/step - loss: 5.1718e-05\n",
      "Epoch 89/100\n",
      "103/103 [==============================] - 1s 13ms/step - loss: 4.6929e-05\n",
      "Epoch 90/100\n",
      "103/103 [==============================] - 1s 14ms/step - loss: 5.3840e-05\n",
      "Epoch 91/100\n",
      "103/103 [==============================] - 2s 16ms/step - loss: 5.2590e-05\n",
      "Epoch 92/100\n",
      "103/103 [==============================] - 1s 14ms/step - loss: 4.8736e-05\n",
      "Epoch 93/100\n",
      "103/103 [==============================] - 1s 14ms/step - loss: 4.8218e-05\n",
      "Epoch 94/100\n",
      "103/103 [==============================] - 2s 15ms/step - loss: 5.7646e-05\n",
      "Epoch 95/100\n",
      "103/103 [==============================] - 2s 15ms/step - loss: 5.0569e-05\n",
      "Epoch 96/100\n",
      "103/103 [==============================] - 1s 14ms/step - loss: 4.9718e-05\n",
      "Epoch 97/100\n",
      "103/103 [==============================] - 2s 15ms/step - loss: 4.8531e-05\n",
      "Epoch 98/100\n",
      "103/103 [==============================] - 1s 15ms/step - loss: 5.2969e-05\n",
      "Epoch 99/100\n",
      "103/103 [==============================] - 1s 13ms/step - loss: 4.7407e-05\n",
      "Epoch 100/100\n",
      "103/103 [==============================] - 1s 13ms/step - loss: 4.9774e-05\n"
     ]
    },
    {
     "data": {
      "text/plain": [
       "<keras.callbacks.History at 0x1ab03851f00>"
      ]
     },
     "execution_count": 65,
     "metadata": {},
     "output_type": "execute_result"
    }
   ],
   "source": [
    "from sklearn.metrics import mean_absolute_error\n",
    "from keras.models import Sequential\n",
    "from keras.layers import Dense, LSTM, Dropout,Flatten\n",
    "\n",
    "model=Sequential()\n",
    "\n",
    "model.add(LSTM(10,input_shape=(None,1),activation=\"relu\"))\n",
    "# model.add(LSTM(10,input_shape=(None,4),activation=\"relu\"))\n",
    "\n",
    "model.add(Dense(1))\n",
    "\n",
    "model.compile(loss=\"mean_squared_error\",optimizer=\"adam\")\n",
    "\n",
    "model.fit(x_train,y_train,epochs=100,batch_size=32)"
   ]
  },
  {
   "cell_type": "code",
   "execution_count": 66,
   "metadata": {},
   "outputs": [],
   "source": [
    "inputs=data[len(data)-len(close_test)-timestep:]\n",
    "inputs=inputs.values.reshape(-1,1)\n",
    "inputs=scaler.transform(inputs)"
   ]
  },
  {
   "cell_type": "code",
   "execution_count": 67,
   "metadata": {},
   "outputs": [
    {
     "name": "stdout",
     "output_type": "stream",
     "text": [
      "2/2 [==============================] - 0s 2ms/step\n"
     ]
    }
   ],
   "source": [
    "predicted_data=model.predict(x_test)\n",
    "predicted_data=scaler.inverse_transform(predicted_data)"
   ]
  },
  {
   "cell_type": "code",
   "execution_count": 68,
   "metadata": {},
   "outputs": [],
   "source": [
    "data_test=np.array(close_test)\n",
    "data_test=data_test.reshape(len(data_test),1)"
   ]
  },
  {
   "cell_type": "code",
   "execution_count": 69,
   "metadata": {},
   "outputs": [
    {
     "data": {
      "image/png": "[encoded data removed]",
      "text/plain": [
       "<Figure size 640x320 with 1 Axes>"
      ]
     },
     "metadata": {},
     "output_type": "display_data"
    }
   ],
   "source": [
    "plt.figure(figsize=(8,4), dpi=80, facecolor='w', edgecolor='k')\n",
    "plt.plot(data_test,color=\"r\",label=\"true result\")\n",
    "plt.plot(predicted_data,color=\"b\",label=\"predicted result\")\n",
    "plt.legend()\n",
    "plt.xlabel(\"Time(50 days)\")\n",
    "plt.ylabel(\"Close Values\")\n",
    "plt.grid(True)\n",
    "plt.show()"
   ]
  }
 ],
 "metadata": {
  "kernelspec": {
   "display_name": "ee4685",
   "language": "python",
   "name": "python3"
  },
  "language_info": {
   "codemirror_mode": {
    "name": "ipython",
    "version": 3
   },
   "file_extension": ".py",
   "mimetype": "text/x-python",
   "name": "python",
   "nbconvert_exporter": "python",
   "pygments_lexer": "ipython3",
   "version": "3.10.9"
  },
  "orig_nbformat": 4
 },
 "nbformat": 4,
 "nbformat_minor": 2
}
